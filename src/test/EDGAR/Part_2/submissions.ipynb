{
 "cells": [
  {
   "cell_type": "code",
   "execution_count": 11,
   "metadata": {},
   "outputs": [],
   "source": [
    "import pandas as pd\n",
    "import requests\n",
    "import edgar_functions as edgar\n",
    "headers = {\"User-Agent\": \"victorbenitogr@gmail.com\"}  # Need to add your email address here"
   ]
  },
  {
   "cell_type": "code",
   "execution_count": 12,
   "metadata": {},
   "outputs": [
    {
     "data": {
      "text/plain": [
       "'0000719955'"
      ]
     },
     "execution_count": 12,
     "metadata": {},
     "output_type": "execute_result"
    }
   ],
   "source": [
    "ticker =\"WSM\"\n",
    "edgar.cik_matching_ticker(ticker)"
   ]
  },
  {
   "cell_type": "code",
   "execution_count": 13,
   "metadata": {},
   "outputs": [],
   "source": [
    "def get_submission_data_for_ticker(ticker, headers=headers, only_filings_df=False):\n",
    "    cik = edgar.cik_matching_ticker(ticker)\n",
    "    url = f\"https://data.sec.gov/submissions/CIK{cik}.json\"\n",
    "    company_json = requests.get(url, headers=headers).json()\n",
    "    if only_filings_df:\n",
    "        return pd.DataFrame(company_json['filings']['recent'])\n",
    "    return company_json"
   ]
  },
  {
   "cell_type": "code",
   "execution_count": 14,
   "metadata": {},
   "outputs": [],
   "source": [
    "data = get_submission_data_for_ticker(ticker, only_filings_df=False)"
   ]
  },
  {
   "cell_type": "code",
   "execution_count": 15,
   "metadata": {},
   "outputs": [
    {
     "data": {
      "text/plain": [
       "dict_keys(['cik', 'entityType', 'sic', 'sicDescription', 'insiderTransactionForOwnerExists', 'insiderTransactionForIssuerExists', 'name', 'tickers', 'exchanges', 'ein', 'description', 'website', 'investorWebsite', 'category', 'fiscalYearEnd', 'stateOfIncorporation', 'stateOfIncorporationDescription', 'addresses', 'phone', 'flags', 'formerNames', 'filings'])"
      ]
     },
     "execution_count": 15,
     "metadata": {},
     "output_type": "execute_result"
    }
   ],
   "source": [
    "data.keys()"
   ]
  },
  {
   "cell_type": "code",
   "execution_count": 16,
   "metadata": {},
   "outputs": [],
   "source": [
    "def get_filtered_filings(ticker, ten_k=True, just_accession_numbers=False, headers=headers):\n",
    "    company_filings_df = get_submission_data_for_ticker(ticker, only_filings_df=True, headers=headers)\n",
    "    if ten_k:\n",
    "        df = company_filings_df[company_filings_df['form'] == '10-K']\n",
    "    else:\n",
    "        df = company_filings_df[company_filings_df['form'] == '10-Q']\n",
    "    if just_accession_numbers:\n",
    "        df = df.set_index('reportDate')\n",
    "        accession_df = df['accessionNumber']\n",
    "        return accession_df\n",
    "    else:\n",
    "        return df"
   ]
  },
  {
   "cell_type": "code",
   "execution_count": 17,
   "metadata": {},
   "outputs": [],
   "source": [
    "filings = get_filtered_filings(ticker, ten_k=False, just_accession_numbers=True, headers=headers)\n"
   ]
  },
  {
   "cell_type": "code",
   "execution_count": 18,
   "metadata": {},
   "outputs": [
    {
     "data": {
      "text/plain": [
       "reportDate\n",
       "2023-10-29    0001628280-23-040136\n",
       "2023-07-30    0001628280-23-031270\n",
       "2023-04-30    0001628280-23-019968\n",
       "2022-10-30    0001628280-22-031309\n",
       "2022-07-31    0001628280-22-024296\n",
       "2022-05-01    0001628280-22-015963\n",
       "2021-10-31    0001628280-21-024590\n",
       "2021-08-01    0001628280-21-018335\n",
       "2021-05-02    0000719955-21-000007\n",
       "2020-11-01    0001193125-20-310847\n",
       "2020-08-02    0001193125-20-242226\n",
       "2020-05-03    0001193125-20-162400\n",
       "2019-11-03    0001193125-19-312802\n",
       "2019-08-04    0001193125-19-244032\n",
       "2019-05-05    0001193125-19-173782\n",
       "2018-10-28    0001193125-18-344956\n",
       "2018-07-29    0001193125-18-269283\n",
       "2018-04-29    0001193125-18-188149\n",
       "2017-10-29    0001193125-17-362895\n",
       "2017-07-30    0001193125-17-280597\n",
       "2017-04-30    0001193125-17-193009\n",
       "2016-10-30    0001193125-16-787485\n",
       "2016-07-31    0001193125-16-705229\n",
       "2016-05-01    0001193125-16-615301\n",
       "2015-11-01    0001193125-15-401464\n",
       "2015-08-02    0001193125-15-318468\n",
       "2015-05-03    0001193125-15-221829\n",
       "2014-11-02    0001193125-14-434838\n",
       "2014-08-03    0001193125-14-340359\n",
       "2014-05-04    0001193125-14-234823\n",
       "2013-11-03    0001193125-13-471753\n",
       "2013-08-04    0001193125-13-365277\n",
       "2013-05-05    0001193125-13-259605\n",
       "2012-10-28    0001193125-12-495336\n",
       "2012-07-29    0001193125-12-384913\n",
       "2012-04-29    0001193125-12-264683\n",
       "2011-10-30    0001193125-11-336247\n",
       "2011-07-31    0001193125-11-244225\n",
       "2011-05-01    0001193125-11-162733\n",
       "2010-10-31    0001193125-10-278135\n",
       "2010-08-01    0001193125-10-208171\n",
       "2010-05-02    0001193125-10-137676\n",
       "Name: accessionNumber, dtype: object"
      ]
     },
     "execution_count": 18,
     "metadata": {},
     "output_type": "execute_result"
    }
   ],
   "source": [
    "filings"
   ]
  }
 ],
 "metadata": {
  "kernelspec": {
   "display_name": "Edgar",
   "language": "python",
   "name": "python3"
  },
  "language_info": {
   "codemirror_mode": {
    "name": "ipython",
    "version": 3
   },
   "file_extension": ".py",
   "mimetype": "text/x-python",
   "name": "python",
   "nbconvert_exporter": "python",
   "pygments_lexer": "ipython3",
   "version": "3.10.12"
  }
 },
 "nbformat": 4,
 "nbformat_minor": 2
}
