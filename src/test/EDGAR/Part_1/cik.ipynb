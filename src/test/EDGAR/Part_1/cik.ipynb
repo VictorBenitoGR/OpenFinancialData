{
 "cells": [
  {
   "cell_type": "code",
   "execution_count": 1,
   "metadata": {},
   "outputs": [],
   "source": [
    "import pandas as pd\n",
    "import requests"
   ]
  },
  {
   "cell_type": "code",
   "execution_count": 2,
   "metadata": {},
   "outputs": [],
   "source": [
    "headers = {\"User-Agent\": \"victorbenitogr@gmail.com\"}  # Need to add your email address here"
   ]
  },
  {
   "cell_type": "code",
   "execution_count": 3,
   "metadata": {},
   "outputs": [],
   "source": [
    "def cik_matching_ticker(ticker, headers=headers):\n",
    "    ticker = ticker.upper().replace(\".\", \"-\")\n",
    "    ticker_json = requests.get(\n",
    "        \"https://www.sec.gov/files/company_tickers.json\", headers=headers\n",
    "    ).json()\n",
    "\n",
    "    for company in ticker_json.values():\n",
    "        if company[\"ticker\"] == ticker:\n",
    "            cik = str(company[\"cik_str\"]).zfill(10)\n",
    "            return cik\n",
    "    raise ValueError(f\"Ticker {ticker} not found in SEC database\")"
   ]
  },
  {
   "cell_type": "code",
   "execution_count": 4,
   "metadata": {},
   "outputs": [
    {
     "data": {
      "text/plain": [
       "'0000719955'"
      ]
     },
     "execution_count": 4,
     "metadata": {},
     "output_type": "execute_result"
    }
   ],
   "source": [
    "cik_matching_ticker(\"wsm\")"
   ]
  }
 ],
 "metadata": {
  "kernelspec": {
   "display_name": "Edgar",
   "language": "python",
   "name": "python3"
  },
  "language_info": {
   "codemirror_mode": {
    "name": "ipython",
    "version": 3
   },
   "file_extension": ".py",
   "mimetype": "text/x-python",
   "name": "python",
   "nbconvert_exporter": "python",
   "pygments_lexer": "ipython3",
   "version": "3.10.12"
  }
 },
 "nbformat": 4,
 "nbformat_minor": 2
}
